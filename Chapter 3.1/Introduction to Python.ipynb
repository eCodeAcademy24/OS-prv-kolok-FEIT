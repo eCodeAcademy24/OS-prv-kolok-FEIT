{
 "cells": [
  {
   "cell_type": "markdown",
   "id": "56c5bf1b",
   "metadata": {
    "id": "56c5bf1b",
    "papermill": {
     "duration": 0.039965,
     "end_time": "2022-02-13T18:29:40.655447",
     "exception": false,
     "start_time": "2022-02-13T18:29:40.615482",
     "status": "completed"
    },
    "tags": []
   },
   "source": [
    "# Python Basics\n"
   ]
  },
  {
   "cell_type": "markdown",
   "id": "6b9fdab0",
   "metadata": {
    "id": "6b9fdab0",
    "papermill": {
     "duration": 0.037738,
     "end_time": "2022-02-13T18:29:40.731465",
     "exception": false,
     "start_time": "2022-02-13T18:29:40.693727",
     "status": "completed"
    },
    "tags": []
   },
   "source": [
    "## Introduction\n",
    "Python is an interpreted, object-oriented, high-level programming language.<br>\n",
    "Python’s simple, easy to learn syntax emphasizes readability and therefore reduces the cost of program maintenance."
   ]
  },
  {
   "cell_type": "markdown",
   "id": "c0582414",
   "metadata": {
    "id": "c0582414",
    "papermill": {
     "duration": 0.037601,
     "end_time": "2022-02-13T18:29:40.807149",
     "exception": false,
     "start_time": "2022-02-13T18:29:40.769548",
     "status": "completed"
    },
    "tags": []
   },
   "source": [
    "## Print Function\n",
    "In Python, the print() function is used to print messages."
   ]
  },
  {
   "cell_type": "code",
   "execution_count": 5,
   "id": "653bf5e1",
   "metadata": {
    "_cell_guid": "b1076dfc-b9ad-4769-8c92-a6c4dae69d19",
    "_uuid": "8f2839f25d086af736a60e9eeb907d3b93b6e0e5",
    "colab": {
     "base_uri": "https://localhost:8080/"
    },
    "execution": {
     "iopub.execute_input": "2022-02-13T18:29:40.895323Z",
     "iopub.status.busy": "2022-02-13T18:29:40.894433Z",
     "iopub.status.idle": "2022-02-13T18:29:40.899281Z",
     "shell.execute_reply": "2022-02-13T18:29:40.899749Z",
     "shell.execute_reply.started": "2022-02-07T23:40:59.222115Z"
    },
    "id": "653bf5e1",
    "outputId": "84fced90-85b0-404f-e79b-5f0bd9b81fc8",
    "papermill": {
     "duration": 0.05531,
     "end_time": "2022-02-13T18:29:40.900070",
     "exception": false,
     "start_time": "2022-02-13T18:29:40.844760",
     "status": "completed"
    },
    "tags": []
   },
   "outputs": [
    {
     "name": "stdout",
     "output_type": "stream",
     "text": [
      "Hello World!\n",
      "Welcome to the course Operating Systems\n"
     ]
    }
   ],
   "source": [
    "print(\"Hello World!\")\n",
    "print('Welcome to the course Operating Systems')"
   ]
  },
  {
   "cell_type": "markdown",
   "id": "fcb7c259",
   "metadata": {
    "id": "fcb7c259",
    "papermill": {
     "duration": 0.03793,
     "end_time": "2022-02-13T18:29:40.980142",
     "exception": false,
     "start_time": "2022-02-13T18:29:40.942212",
     "status": "completed"
    },
    "tags": []
   },
   "source": [
    "## Comments\n",
    "Comments in the Python programming language are written starting with the hashtag (#) symbol."
   ]
  },
  {
   "cell_type": "code",
   "execution_count": 6,
   "id": "fdf4365b",
   "metadata": {
    "_cell_guid": "79c7e3d0-c299-4dcb-8224-4455121ee9b0",
    "_uuid": "d629ff2d2480ee46fbb7e2d37f6b5fab8052498a",
    "colab": {
     "base_uri": "https://localhost:8080/"
    },
    "execution": {
     "iopub.execute_input": "2022-02-13T18:29:41.062205Z",
     "iopub.status.busy": "2022-02-13T18:29:41.061423Z",
     "iopub.status.idle": "2022-02-13T18:29:41.064269Z",
     "shell.execute_reply": "2022-02-13T18:29:41.064753Z",
     "shell.execute_reply.started": "2022-02-07T23:41:06.521795Z"
    },
    "id": "fdf4365b",
    "outputId": "eaebd0d8-2984-49ac-baa7-e36670687763",
    "papermill": {
     "duration": 0.04636,
     "end_time": "2022-02-13T18:29:41.064937",
     "exception": false,
     "start_time": "2022-02-13T18:29:41.018577",
     "status": "completed"
    },
    "tags": []
   },
   "outputs": [
    {
     "name": "stdout",
     "output_type": "stream",
     "text": [
      "You have succesfully learned how to comment.\n"
     ]
    }
   ],
   "source": [
    "# This is a comment\n",
    "print(\"You have succesfully learned how to comment.\")"
   ]
  },
  {
   "cell_type": "markdown",
   "id": "e881bd48",
   "metadata": {
    "id": "e881bd48",
    "papermill": {
     "duration": 0.040292,
     "end_time": "2022-02-13T18:29:41.144727",
     "exception": false,
     "start_time": "2022-02-13T18:29:41.104435",
     "status": "completed"
    },
    "tags": []
   },
   "source": [
    "## Variables\n",
    "Variables in Python don't have an explicit data type when we declare them, Python handles this implicitely.<br>\n",
    "You can use different functions from Python to explicitely cast between multiple variables."
   ]
  },
  {
   "cell_type": "code",
   "execution_count": 7,
   "id": "4efc5450",
   "metadata": {
    "execution": {
     "iopub.execute_input": "2022-02-13T18:29:41.227649Z",
     "iopub.status.busy": "2022-02-13T18:29:41.226676Z",
     "iopub.status.idle": "2022-02-13T18:29:41.228936Z",
     "shell.execute_reply": "2022-02-13T18:29:41.229518Z",
     "shell.execute_reply.started": "2022-02-07T23:42:11.898289Z"
    },
    "id": "4efc5450",
    "papermill": {
     "duration": 0.046274,
     "end_time": "2022-02-13T18:29:41.229680",
     "exception": false,
     "start_time": "2022-02-13T18:29:41.183406",
     "status": "completed"
    },
    "tags": []
   },
   "outputs": [
    {
     "name": "stdout",
     "output_type": "stream",
     "text": [
      "The integer number 5 converted to a floating point number is 5.0\n",
      "The floating point number 10.75 converted to an integer number is 10\n",
      "The floating point number 5.0 converted to a string is 5.0\n"
     ]
    }
   ],
   "source": [
    "a = 5\n",
    "b = 10.75\n",
    "c = 'Hello World!'\n",
    "d = True\n",
    "\n",
    "e = float(a)\n",
    "f = int(b)\n",
    "g = str(e)\n",
    "\n",
    "print(\"The integer number {} converted to a floating point number is {}\".format(a, e))\n",
    "print(\"The floating point number {} converted to an integer number is {}\".format(b, f))\n",
    "print(\"The floating point number {} converted to a string is {}\".format(e, g))"
   ]
  },
  {
   "cell_type": "markdown",
   "id": "35076b11",
   "metadata": {
    "id": "35076b11",
    "papermill": {
     "duration": 0.038632,
     "end_time": "2022-02-13T18:29:41.471298",
     "exception": false,
     "start_time": "2022-02-13T18:29:41.432666",
     "status": "completed"
    },
    "tags": []
   },
   "source": [
    "## Basic String Operations"
   ]
  },
  {
   "cell_type": "code",
   "execution_count": 8,
   "id": "e67f3ea9",
   "metadata": {
    "colab": {
     "base_uri": "https://localhost:8080/"
    },
    "execution": {
     "iopub.execute_input": "2022-02-13T18:29:41.554905Z",
     "iopub.status.busy": "2022-02-13T18:29:41.554218Z",
     "iopub.status.idle": "2022-02-13T18:29:41.556864Z",
     "shell.execute_reply": "2022-02-13T18:29:41.557363Z",
     "shell.execute_reply.started": "2022-02-07T23:42:23.187939Z"
    },
    "id": "e67f3ea9",
    "outputId": "549c9a5b-4b09-4b11-bdd1-1a7eaff4968e",
    "papermill": {
     "duration": 0.047047,
     "end_time": "2022-02-13T18:29:41.557539",
     "exception": false,
     "start_time": "2022-02-13T18:29:41.510492",
     "status": "completed"
    },
    "tags": []
   },
   "outputs": [
    {
     "name": "stdout",
     "output_type": "stream",
     "text": [
      "Title case: Hello World!\n",
      "Upper case: HELLO WORLD!\n",
      "Lower case: hello world!\n",
      "THe full name of the person is John Doe\n",
      "The length of the person's full name is 8\n"
     ]
    }
   ],
   "source": [
    "message = \"HeLLo WoRLd!\"\n",
    "\n",
    "print(\"Title case: \" + message.title())\n",
    "print(\"Upper case: \" + message.upper())\n",
    "print(\"Lower case: \" + message.lower())\n",
    "\n",
    "name = \"John\"\n",
    "surname = \"Doe\"\n",
    "fullName = name + \" \" + surname\n",
    "\n",
    "print(\"THe full name of the person is\", fullName)\n",
    "print(\"The length of the person's full name is\", len(fullName))"
   ]
  },
  {
   "cell_type": "markdown",
   "id": "945ffed4",
   "metadata": {
    "id": "945ffed4",
    "papermill": {
     "duration": 0.041205,
     "end_time": "2022-02-13T18:29:42.145569",
     "exception": false,
     "start_time": "2022-02-13T18:29:42.104364",
     "status": "completed"
    },
    "tags": []
   },
   "source": [
    "## Lists\n",
    "A list is a collection of items which can be changed/modified at any point of time. You can create lists that contain any data type known to Python."
   ]
  },
  {
   "cell_type": "code",
   "execution_count": 9,
   "id": "9f96afab",
   "metadata": {
    "colab": {
     "base_uri": "https://localhost:8080/"
    },
    "execution": {
     "iopub.execute_input": "2022-02-13T18:29:42.231635Z",
     "iopub.status.busy": "2022-02-13T18:29:42.230971Z",
     "iopub.status.idle": "2022-02-13T18:29:42.234372Z",
     "shell.execute_reply": "2022-02-13T18:29:42.233767Z",
     "shell.execute_reply.started": "2022-02-07T23:46:21.267939Z"
    },
    "id": "9f96afab",
    "outputId": "3eed73a9-af58-414f-cb63-ccea5c66094c",
    "papermill": {
     "duration": 0.048294,
     "end_time": "2022-02-13T18:29:42.234509",
     "exception": false,
     "start_time": "2022-02-13T18:29:42.186215",
     "status": "completed"
    },
    "tags": []
   },
   "outputs": [
    {
     "name": "stdout",
     "output_type": "stream",
     "text": [
      "The list is [2, 4, 6, 8, 10]\n",
      "The first element is 2\n",
      "The last element is 10\n",
      "The last element is also 10\n"
     ]
    }
   ],
   "source": [
    "list = [2, 4, 6, 8, 10]\n",
    "print(\"The list is\", list)\n",
    "print(\"The first element is\", list[0])\n",
    "print(\"The last element is\", list[4])\n",
    "print(\"The last element is also\", list[-1])"
   ]
  },
  {
   "cell_type": "markdown",
   "id": "42b87f42",
   "metadata": {
    "id": "42b87f42",
    "papermill": {
     "duration": 0.041483,
     "end_time": "2022-02-13T18:29:42.584880",
     "exception": false,
     "start_time": "2022-02-13T18:29:42.543397",
     "status": "completed"
    },
    "tags": []
   },
   "source": [
    "## Basic List Operations"
   ]
  },
  {
   "cell_type": "code",
   "execution_count": 10,
   "id": "d54fc0ec",
   "metadata": {
    "colab": {
     "base_uri": "https://localhost:8080/"
    },
    "execution": {
     "iopub.execute_input": "2022-02-13T18:29:42.674926Z",
     "iopub.status.busy": "2022-02-13T18:29:42.674270Z",
     "iopub.status.idle": "2022-02-13T18:29:42.679342Z",
     "shell.execute_reply": "2022-02-13T18:29:42.678783Z",
     "shell.execute_reply.started": "2022-02-07T23:46:42.826714Z"
    },
    "id": "d54fc0ec",
    "outputId": "d63e0e2a-a50f-4803-e5e4-b8ab136d84aa",
    "papermill": {
     "duration": 0.053096,
     "end_time": "2022-02-13T18:29:42.679485",
     "exception": false,
     "start_time": "2022-02-13T18:29:42.626389",
     "status": "completed"
    },
    "tags": []
   },
   "outputs": [
    {
     "name": "stdout",
     "output_type": "stream",
     "text": [
      "The list is [2, 4, 6, 8, 10]\n",
      "The list is [2, 4, 6, 8, 10, 12]\n",
      "The list is [0, 2, 4, 6, 8, 10, 12]\n",
      "The list is [2, 4, 6, 8, 10, 12]\n",
      "The list is [2, 4, 6, 8, 10]\n",
      "The list is [2, 4, 6, 10]\n",
      "The list is ['Arabic', 'Bengali', 'Chinese', 'English', 'Hindi', 'Portguese', 'Russian', 'Spanish']\n",
      "The list is ['Spanish', 'Russian', 'Portguese', 'Hindi', 'English', 'Chinese', 'Bengali', 'Arabic']\n",
      "The first three languages are ['Spanish', 'Russian', 'Portguese']\n",
      "The next two languages are ['Hindi', 'English']\n",
      "The last three languages are ['Chinese', 'Bengali', 'Arabic']\n"
     ]
    }
   ],
   "source": [
    "list = [2, 4, 6, 8, 10]\n",
    "print(\"The list is\", list)\n",
    "\n",
    "# Adding a new item at the end of the list\n",
    "list.append(12)\n",
    "print(\"The list is\", list)\n",
    "\n",
    "# Inserting an item in a specific index in the list\n",
    "list.insert(0, 0)\n",
    "print(\"The list is\", list)\n",
    "\n",
    "# Removing an item in a specific index in the list\n",
    "del list[0]\n",
    "print(\"The list is\", list)\n",
    "\n",
    "# Removing the last item in the list\n",
    "list.pop()\n",
    "print(\"The list is\", list)\n",
    "\n",
    "# Removing an item by value\n",
    "list.remove(8)\n",
    "print(\"The list is\", list)\n",
    "\n",
    "languages = [\"English\", \"Hindi\", \"Chinese\", \"Spanish\", \"Bengali\", \"Russian\", \"Arabic\", \"Portguese\"]\n",
    "\n",
    "# Sort the list in ascending order\n",
    "languages.sort()\n",
    "print(\"The list is\", languages)\n",
    "\n",
    "# Sort the list in descending order\n",
    "languages.sort(reverse = True)\n",
    "print(\"The list is\", languages)\n",
    "\n",
    "print(\"The first three languages are\", languages[:3])\n",
    "print(\"The next two languages are\", languages[3:5])\n",
    "print(\"The last three languages are\", languages[-3:])"
   ]
  },
  {
   "cell_type": "markdown",
   "id": "ec5c4b4e",
   "metadata": {
    "id": "ec5c4b4e",
    "papermill": {
     "duration": 0.043398,
     "end_time": "2022-02-13T18:29:43.487138",
     "exception": false,
     "start_time": "2022-02-13T18:29:43.443740",
     "status": "completed"
    },
    "tags": []
   },
   "source": [
    "## Tuples\n",
    "Like lists, tuples are collection types in Python. However, Tuples are immutable, which means the value of immutable lists cannot change."
   ]
  },
  {
   "cell_type": "code",
   "execution_count": 11,
   "id": "bc9d7395",
   "metadata": {
    "colab": {
     "base_uri": "https://localhost:8080/"
    },
    "execution": {
     "iopub.execute_input": "2022-02-13T18:29:43.576889Z",
     "iopub.status.busy": "2022-02-13T18:29:43.576266Z",
     "iopub.status.idle": "2022-02-13T18:29:43.580791Z",
     "shell.execute_reply": "2022-02-13T18:29:43.581403Z",
     "shell.execute_reply.started": "2022-02-08T00:03:54.505987Z"
    },
    "id": "bc9d7395",
    "outputId": "8cafd879-368f-4e04-cda7-3886472f443a",
    "papermill": {
     "duration": 0.051149,
     "end_time": "2022-02-13T18:29:43.581566",
     "exception": false,
     "start_time": "2022-02-13T18:29:43.530417",
     "status": "completed"
    },
    "tags": []
   },
   "outputs": [
    {
     "name": "stdout",
     "output_type": "stream",
     "text": [
      "The dimensions of the screen are (1920, 1080)\n",
      "The 4K resolution is (3840, 2160)\n"
     ]
    }
   ],
   "source": [
    "dimensions = (1920, 1080)\n",
    "print(\"The dimensions of the screen are\", dimensions)\n",
    "\n",
    "dimensions = (3840, 2160)\n",
    "print(\"The 4K resolution is\", dimensions)"
   ]
  },
  {
   "cell_type": "markdown",
   "id": "7d1a55c6",
   "metadata": {},
   "source": [
    "## Sets\n",
    "Sets are a separate collection type in Python, closely related to the Mathematical sets."
   ]
  },
  {
   "cell_type": "code",
   "execution_count": 12,
   "id": "59bdf291",
   "metadata": {},
   "outputs": [
    {
     "name": "stdout",
     "output_type": "stream",
     "text": [
      "We have the following types of fruit {'Banana', 'Cherry', 'Apple'}\n",
      "We have the following fruit on offer: Banana\n",
      "We have the following fruit on offer: Cherry\n",
      "We have the following fruit on offer: Apple\n"
     ]
    }
   ],
   "source": [
    "fruit = {\"Apple\", \"Banana\", \"Cherry\"}\n",
    "print(\"We have the following types of fruit\", fruit)\n",
    "\n",
    "for object in fruit:\n",
    "    print(\"We have the following fruit on offer:\", object)"
   ]
  },
  {
   "cell_type": "markdown",
   "id": "8930661f",
   "metadata": {},
   "source": [
    "## Basic Set Operations"
   ]
  },
  {
   "cell_type": "code",
   "execution_count": 13,
   "id": "18a60d49",
   "metadata": {},
   "outputs": [
    {
     "name": "stdout",
     "output_type": "stream",
     "text": [
      "The unified set is {'Potato', 'Pineapple', 'Apple', 'Lettuce', 'Banana', 'Carrot'}\n"
     ]
    }
   ],
   "source": [
    "fruit = {\"Apple\", \"Banana\", \"Cherry\"}\n",
    "\n",
    "# Add new element to the set\n",
    "fruit.add(\"Pineapple\")\n",
    "\n",
    "# Remove an element from the set\n",
    "fruit.remove(\"Cherry\")\n",
    "\n",
    "vegetables = {\"Potato\", \"Lettuce\", \"Carrot\"}\n",
    "food = fruit.union(vegetables)\n",
    "\n",
    "print(\"The unified set is\", food)"
   ]
  },
  {
   "cell_type": "markdown",
   "id": "bfa49489",
   "metadata": {
    "id": "bfa49489",
    "papermill": {
     "duration": 0.044008,
     "end_time": "2022-02-13T18:29:44.038767",
     "exception": false,
     "start_time": "2022-02-13T18:29:43.994759",
     "status": "completed"
    },
    "tags": []
   },
   "source": [
    "## Dictionaries\n",
    "In Python, Dictionaries are a collection of key and value pairs. In Dictionaries, each key is associated with a value. To access any value, we have to use the key associated with that value."
   ]
  },
  {
   "cell_type": "code",
   "execution_count": 14,
   "id": "f3659142",
   "metadata": {
    "colab": {
     "base_uri": "https://localhost:8080/"
    },
    "execution": {
     "iopub.execute_input": "2022-02-13T18:29:44.132503Z",
     "iopub.status.busy": "2022-02-13T18:29:44.131873Z",
     "iopub.status.idle": "2022-02-13T18:29:44.136193Z",
     "shell.execute_reply": "2022-02-13T18:29:44.136684Z",
     "shell.execute_reply.started": "2022-02-08T00:04:45.809868Z"
    },
    "id": "f3659142",
    "outputId": "1161d0f9-a4c9-4134-bcd3-37afe0fe3e64",
    "papermill": {
     "duration": 0.052552,
     "end_time": "2022-02-13T18:29:44.136870",
     "exception": false,
     "start_time": "2022-02-13T18:29:44.084318",
     "status": "completed"
    },
    "tags": []
   },
   "outputs": [
    {
     "name": "stdout",
     "output_type": "stream",
     "text": [
      "My name is John\n",
      "My surname is Doe\n",
      "I am 28 years old\n"
     ]
    }
   ],
   "source": [
    "personalInformation = {\"name\": \"John\", \"surname\": \"Doe\", \"age\": 28}\n",
    "print(\"My name is\", personalInformation[\"name\"])\n",
    "print(\"My surname is\", personalInformation[\"surname\"])\n",
    "print(\"I am {} years old\".format(personalInformation[\"age\"]))"
   ]
  },
  {
   "cell_type": "markdown",
   "id": "e87f26cd",
   "metadata": {
    "id": "e87f26cd",
    "papermill": {
     "duration": 0.044293,
     "end_time": "2022-02-13T18:29:44.227083",
     "exception": false,
     "start_time": "2022-02-13T18:29:44.182790",
     "status": "completed"
    },
    "tags": []
   },
   "source": [
    "## Basic Dictionary Operations"
   ]
  },
  {
   "cell_type": "code",
   "execution_count": 15,
   "id": "a917aa69",
   "metadata": {
    "colab": {
     "base_uri": "https://localhost:8080/"
    },
    "execution": {
     "iopub.execute_input": "2022-02-13T18:29:44.324793Z",
     "iopub.status.busy": "2022-02-13T18:29:44.323795Z",
     "iopub.status.idle": "2022-02-13T18:29:44.329540Z",
     "shell.execute_reply": "2022-02-13T18:29:44.330170Z",
     "shell.execute_reply.started": "2022-02-08T00:05:13.766661Z"
    },
    "id": "a917aa69",
    "outputId": "e025f02c-17b5-479b-fe8b-f3112d3ff2f7",
    "papermill": {
     "duration": 0.054966,
     "end_time": "2022-02-13T18:29:44.330337",
     "exception": false,
     "start_time": "2022-02-13T18:29:44.275371",
     "status": "completed"
    },
    "tags": []
   },
   "outputs": [
    {
     "name": "stdout",
     "output_type": "stream",
     "text": [
      "My name is Alice\n",
      "My surname is Cooper\n",
      "My profession is Software Engineer\n",
      "Employee 1:\n",
      "Name: Alice, surname: Cooper, profession: Software Engineer\n",
      "Employee 2:\n",
      "Name: John, surname: Doe, profession: Accountant\n",
      "Employee 3:\n",
      "Name: Ben, surname: Cooper, profession: CEO\n",
      "Name: Alice, surname: Cooper, profession: Software Engineer\n",
      "Name: John, surname: Doe, profession: Accountant\n",
      "Name: Ben, surname: Cooper, profession: CEO\n"
     ]
    }
   ],
   "source": [
    "personalInformation = {\"name\": \"John\", \"surname\": \"Doe\", \"age\": 28}\n",
    "\n",
    "# Update existing entries in the dictionary\n",
    "personalInformation[\"name\"] = \"Alice\"\n",
    "personalInformation[\"surname\"] = \"Cooper\"\n",
    "\n",
    "print(\"My name is\", personalInformation[\"name\"])\n",
    "print(\"My surname is\", personalInformation[\"surname\"])\n",
    "\n",
    "# Add new entry into the dictionary\n",
    "personalInformation[\"profession\"] = \"Software Engineer\"\n",
    "print(\"My profession is\", personalInformation[\"profession\"])\n",
    "\n",
    "# Remove a key/value pair based on the key\n",
    "personalInformation.pop(\"age\")\n",
    "\n",
    "firstColleague = {\"name\": \"John\", \"surname\": \"Doe\", \"profession\": \"Accountant\"}\n",
    "secondColleague = {\"name\": \"Ben\", \"surname\": \"Cooper\", \"profession\": \"CEO\"}\n",
    "\n",
    "employees = [personalInformation, firstColleague, secondColleague]\n",
    "\n",
    "# Iterate through list using indices\n",
    "for i in range(len(employees)):\n",
    "    print(\"Employee {}:\".format(i + 1))\n",
    "    print(\"Name: {}, surname: {}, profession: {}\".format(employees[i][\"name\"], employees[i][\"surname\"], employees[i][\"profession\"]))\n",
    "\n",
    "# Iterate through list using objects\n",
    "for employee in employees:\n",
    "    print(\"Name: {}, surname: {}, profession: {}\".format(employee[\"name\"], employee[\"surname\"], employee[\"profession\"]))"
   ]
  }
 ],
 "metadata": {
  "colab": {
   "provenance": []
  },
  "kernelspec": {
   "display_name": "Python 3",
   "language": "python",
   "name": "python3"
  },
  "language_info": {
   "codemirror_mode": {
    "name": "ipython",
    "version": 3
   },
   "file_extension": ".py",
   "mimetype": "text/x-python",
   "name": "python",
   "nbconvert_exporter": "python",
   "pygments_lexer": "ipython3",
   "version": "3.12.7"
  },
  "papermill": {
   "default_parameters": {},
   "duration": 15.051108,
   "end_time": "2022-02-13T18:29:45.458545",
   "environment_variables": {},
   "exception": null,
   "input_path": "__notebook__.ipynb",
   "output_path": "__notebook__.ipynb",
   "parameters": {},
   "start_time": "2022-02-13T18:29:30.407437",
   "version": "2.3.3"
  }
 },
 "nbformat": 4,
 "nbformat_minor": 5
}
